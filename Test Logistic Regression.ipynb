{
 "cells": [
  {
   "cell_type": "code",
   "execution_count": 19,
   "metadata": {},
   "outputs": [],
   "source": [
    "import pandas as pd\n",
    "import sklearn as sk\n",
    "import numpy as np\n",
    "import seaborn as sns\n",
    "import matplotlib.pyplot as plt\n",
    "%matplotlib inline\n",
    "\n",
    "from scipy.stats import norm\n",
    "from sklearn.model_selection import train_test_split\n",
    "from sklearn.model_selection import cross_val_score\n",
    "from sklearn.model_selection import cross_val_predict\n",
    "from sklearn.model_selection import GridSearchCV\n",
    "from sklearn.model_selection import StratifiedKFold\n",
    "from sklearn.metrics import mean_squared_error\n",
    "from sklearn.linear_model import LinearRegression\n",
    "from sklearn.linear_model import LogisticRegression\n",
    "from sklearn.linear_model import Ridge\n",
    "from sklearn.preprocessing import PolynomialFeatures\n",
    "from sklearn.preprocessing import StandardScaler\n",
    "from sklearn.ensemble import RandomForestRegressor\n",
    "from sklearn.pipeline import Pipeline\n",
    "from sklearn.externals import joblib"
   ]
  },
  {
   "cell_type": "code",
   "execution_count": 20,
   "metadata": {},
   "outputs": [],
   "source": [
    "# Load raw data\n",
    "train_feat = pd.read_csv('train_features.csv')\n",
    "train_sal = pd.read_csv('train_salaries.csv')\n",
    "test_feat = pd.read_csv('test_features.csv')\n"
   ]
  },
  {
   "cell_type": "code",
   "execution_count": 21,
   "metadata": {},
   "outputs": [],
   "source": [
    "train_data = pd.merge(train_feat, train_sal, on ='jobId')\n",
    "# train_data.head()"
   ]
  },
  {
   "cell_type": "code",
   "execution_count": 22,
   "metadata": {},
   "outputs": [],
   "source": [
    "train_data = train_data.drop('jobId', axis = 1)\n",
    "train_data = train_data.drop('companyId', axis = 1)\n",
    "test_feat = test_feat.drop('jobId', axis = 1)\n",
    "test_feat = test_feat.drop('companyId', axis = 1)"
   ]
  },
  {
   "cell_type": "code",
   "execution_count": 23,
   "metadata": {},
   "outputs": [],
   "source": [
    "train_data = pd.get_dummies(train_data)\n",
    "# train_data.head()"
   ]
  },
  {
   "cell_type": "code",
   "execution_count": 24,
   "metadata": {},
   "outputs": [],
   "source": [
    "x = train_data.drop('salary', axis = 1)\n",
    "    \n",
    "y = train_data['salary']"
   ]
  },
  {
   "cell_type": "code",
   "execution_count": 25,
   "metadata": {},
   "outputs": [
    {
     "name": "stdout",
     "output_type": "stream",
     "text": [
      "Số lượng mẫu đào tạo: 800000\n",
      "Số lượng mẫu test : 200000\n"
     ]
    }
   ],
   "source": [
    "x_train, x_test, y_train, y_test = train_test_split(x, y, test_size=0.20, random_state=0)\n",
    "\n",
    "print(\"Số lượng mẫu đào tạo:\",x_train.shape[0])\n",
    "print(\"Số lượng mẫu test :\", x_test.shape[0])"
   ]
  },
  {
   "cell_type": "code",
   "execution_count": null,
   "metadata": {},
   "outputs": [],
   "source": [
    "# tạo đối tượng Logistic Regressor\n",
    "\n",
    "lr = LogisticRegression().fit(x_train, y_train)\n",
    "# y_hat = lr.predict(x_test)\n",
    "# print(\"5 mức lương đầu tiên là : \", y_hat[0:5])"
   ]
  },
  {
   "cell_type": "code",
   "execution_count": null,
   "metadata": {
    "scrolled": false
   },
   "outputs": [],
   "source": [
    "# x_train = np.concatenate((np.ones((1, x_train.shape[1])), x_train), axis = 0)\n",
    "# def sigmoid(s):\n",
    "#     return 1/(1 + np.exp(-s))\n",
    "\n",
    "# def logistic_sigmoid_regression(x_train, y, w_init, eta, tol = 1e-4, max_count = 10000):\n",
    "#     w = [w_init]    \n",
    "#     it = 0\n",
    "#     N = x_train.shape[1]\n",
    "#     d = x_train.shape[0]\n",
    "#     count = 0\n",
    "#     check_w_after = 20\n",
    "#     while count < max_count:\n",
    "#         # it += 1\n",
    "#         # mix data \n",
    "#         mix_id = np.random.permutation(N)\n",
    "#         for i in mix_id:\n",
    "#             xi = x_train[:, i].reshape(d, 1)\n",
    "#             yi = y_train[i]\n",
    "            \n",
    "#             zi = sigmoid(np.dot(w[-1]).T, xi)\n",
    "          \n",
    "#             w_new = w[-1] + eta*(yi - zi)*xi\n",
    "#             count += 1\n",
    "#             # stopping criteria\n",
    "#             if count%check_w_after == 0:                \n",
    "#                 if np.linalg.norm(w_new - w[-check_w_after]) < tol:\n",
    "#                     return w\n",
    "#             w.append(w_new)\n",
    "#     return w\n",
    "# eta = .05 \n",
    "# d = x_train.shape[0]\n",
    "# w_init = np.random.randn(d, 1)\n",
    "\n",
    "# # print(y_train[1])\n",
    "\n",
    "# w = logistic_sigmoid_regression(x_train, y_train, w_init, eta)\n",
    "# # print(w[-1])"
   ]
  },
  {
   "cell_type": "code",
   "execution_count": null,
   "metadata": {},
   "outputs": [],
   "source": []
  }
 ],
 "metadata": {
  "kernelspec": {
   "display_name": "Python 3",
   "language": "python",
   "name": "python3"
  },
  "language_info": {
   "codemirror_mode": {
    "name": "ipython",
    "version": 3
   },
   "file_extension": ".py",
   "mimetype": "text/x-python",
   "name": "python",
   "nbconvert_exporter": "python",
   "pygments_lexer": "ipython3",
   "version": "3.6.5"
  }
 },
 "nbformat": 4,
 "nbformat_minor": 2
}
