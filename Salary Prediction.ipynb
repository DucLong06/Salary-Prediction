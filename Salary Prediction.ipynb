{
 "cells": [
  {
   "cell_type": "code",
   "execution_count": 2,
   "metadata": {},
   "outputs": [],
   "source": [
    "import pandas as pd\n",
    "import sklearn as sk\n",
    "import numpy as np\n",
    "import seaborn as sns\n",
    "import matplotlib.pyplot as plt\n",
    "%matplotlib inline\n",
    "\n",
    "from scipy.stats import norm\n",
    "from sklearn.model_selection import train_test_split\n",
    "from sklearn.model_selection import cross_val_score\n",
    "from sklearn.model_selection import cross_val_predict\n",
    "from sklearn.model_selection import GridSearchCV\n",
    "from sklearn.model_selection import StratifiedKFold\n",
    "from sklearn.metrics import mean_squared_error\n",
    "from sklearn.linear_model import LinearRegression\n",
    "from sklearn.linear_model import Ridge\n",
    "from sklearn.preprocessing import PolynomialFeatures\n",
    "from sklearn.preprocessing import StandardScaler\n",
    "from sklearn.ensemble import RandomForestRegressor\n",
    "from sklearn.pipeline import Pipeline\n",
    "from sklearn.externals import joblib"
   ]
  },
  {
   "cell_type": "code",
   "execution_count": 3,
   "metadata": {},
   "outputs": [],
   "source": [
    "def DistributionPlot(RedFunction, BlueFunction, RedName, BlueName, title):\n",
    "    width = 10\n",
    "    height=6\n",
    "    plt.figure(figsize=(width, height))\n",
    "    \n",
    "    ax1=sns.distplot(RedFunction, hist=False, color=\"r\", label=RedName)\n",
    "    ax2=sns.distplot(BlueFunction, hist=False, color=\"b\", label=BlueName)\n",
    "    \n",
    "    plt.title(title)\n",
    "    plt.xlabel(\"Proportion of Jobs\")\n",
    "    plt.ylabel(\"Salary (in thousand dollars)\")\n",
    "    plt.show()\n",
    "    plt.close()"
   ]
  },
  {
   "cell_type": "code",
   "execution_count": 4,
   "metadata": {},
   "outputs": [],
   "source": [
    "def PollyPlot(X_train, X_test, y_train, y_test, lr, poly_transform):\n",
    "    width = 12\n",
    "    height = 10\n",
    "    plt.figure(figsize=(width, height))\n",
    "    \n",
    "    xmax = max([X_train.values.max(), X_test.values.max()])\n",
    "    xmin = min([X_train.values.min(), X_test.values.min()])\n",
    "    x = np.arange(xmin, xmax, 0.1)\n",
    "    \n",
    "    plt.plot(X_train, y_train, 'ro', label='Training Data')\n",
    "    plt.plot(X_test, y_test, 'go', label='Test Data')\n",
    "    plt.plot(x, lr.predict(poly_transform.fit_transform(x.reshape(-1, 1))), label='Predict Function')\n",
    "    plt.ylim(-100, 5000)\n",
    "    plt.ylabel('Salary')\n",
    "    plt.legend"
   ]
  },
  {
   "cell_type": "code",
   "execution_count": 5,
   "metadata": {},
   "outputs": [],
   "source": [
    "def ViolinPlot(data, var):\n",
    "    data = pd.concat([train_data['salary'], train_data[var]], axis=1)\n",
    "    f, ax = plt.subplots(figsize=(12, 8))\n",
    "    fig = sns.violinplot(x=var, y='salary', data=data, scale='count', inner='quartile')\n",
    "    plt.xticks(rotation=75)"
   ]
  },
  {
   "cell_type": "code",
   "execution_count": 6,
   "metadata": {
    "scrolled": true
   },
   "outputs": [
    {
     "data": {
      "text/html": [
       "<div>\n",
       "<style scoped>\n",
       "    .dataframe tbody tr th:only-of-type {\n",
       "        vertical-align: middle;\n",
       "    }\n",
       "\n",
       "    .dataframe tbody tr th {\n",
       "        vertical-align: top;\n",
       "    }\n",
       "\n",
       "    .dataframe thead th {\n",
       "        text-align: right;\n",
       "    }\n",
       "</style>\n",
       "<table border=\"1\" class=\"dataframe\">\n",
       "  <thead>\n",
       "    <tr style=\"text-align: right;\">\n",
       "      <th></th>\n",
       "      <th>JobID</th>\n",
       "      <th>TenCongTy</th>\n",
       "      <th>ChucVu</th>\n",
       "      <th>TrinhDoHocVan</th>\n",
       "      <th>ChuyenMon</th>\n",
       "      <th>ChuyenNganh</th>\n",
       "      <th>NamKinhNghiem</th>\n",
       "      <th>milesFromMetropolis</th>\n",
       "    </tr>\n",
       "  </thead>\n",
       "  <tbody>\n",
       "    <tr>\n",
       "      <th>0</th>\n",
       "      <td>JobID1</td>\n",
       "      <td>FPT</td>\n",
       "      <td>CEO</td>\n",
       "      <td>MASTERS</td>\n",
       "      <td>JAVA</td>\n",
       "      <td>mobile</td>\n",
       "      <td>10</td>\n",
       "      <td>83</td>\n",
       "    </tr>\n",
       "    <tr>\n",
       "      <th>1</th>\n",
       "      <td>JobID2</td>\n",
       "      <td>FSI</td>\n",
       "      <td>CFO</td>\n",
       "      <td>HIGH_SCHOOL</td>\n",
       "      <td>PHP</td>\n",
       "      <td>web</td>\n",
       "      <td>3</td>\n",
       "      <td>73</td>\n",
       "    </tr>\n",
       "    <tr>\n",
       "      <th>2</th>\n",
       "      <td>JobID3</td>\n",
       "      <td>EPU</td>\n",
       "      <td>MANAGER</td>\n",
       "      <td>MASTERS</td>\n",
       "      <td>PYTHON</td>\n",
       "      <td>R&amp;D</td>\n",
       "      <td>19</td>\n",
       "      <td>38</td>\n",
       "    </tr>\n",
       "    <tr>\n",
       "      <th>3</th>\n",
       "      <td>JobID4</td>\n",
       "      <td>VIETTEL</td>\n",
       "      <td>LEAD</td>\n",
       "      <td>DOCTORAL</td>\n",
       "      <td>PTS</td>\n",
       "      <td>design</td>\n",
       "      <td>8</td>\n",
       "      <td>10</td>\n",
       "    </tr>\n",
       "    <tr>\n",
       "      <th>4</th>\n",
       "      <td>JobID5</td>\n",
       "      <td>ABC</td>\n",
       "      <td>LEAD</td>\n",
       "      <td>DOCTORAL</td>\n",
       "      <td>SQL</td>\n",
       "      <td>B.A</td>\n",
       "      <td>8</td>\n",
       "      <td>17</td>\n",
       "    </tr>\n",
       "  </tbody>\n",
       "</table>\n",
       "</div>"
      ],
      "text/plain": [
       "    JobID TenCongTy   ChucVu TrinhDoHocVan ChuyenMon ChuyenNganh  \\\n",
       "0  JobID1       FPT      CEO       MASTERS      JAVA      mobile   \n",
       "1  JobID2       FSI      CFO   HIGH_SCHOOL       PHP         web   \n",
       "2  JobID3       EPU  MANAGER       MASTERS    PYTHON         R&D   \n",
       "3  JobID4   VIETTEL     LEAD      DOCTORAL       PTS      design   \n",
       "4  JobID5       ABC     LEAD      DOCTORAL       SQL         B.A   \n",
       "\n",
       "   NamKinhNghiem  milesFromMetropolis  \n",
       "0             10                   83  \n",
       "1              3                   73  \n",
       "2             19                   38  \n",
       "3              8                   10  \n",
       "4              8                   17  "
      ]
     },
     "execution_count": 6,
     "metadata": {},
     "output_type": "execute_result"
    }
   ],
   "source": [
    "# Load raw data\n",
    "train_feat = pd.read_csv('/Users/LongHD/Desktop/Salary-Prediction/train_features.csv')\n",
    "train_sal = pd.read_csv('train_salaries.csv')\n",
    "test_feat = pd.read_csv('test_features.csv')\n",
    "\n",
    "# Verify data is loaded\n",
    "train_feat.head()"
   ]
  },
  {
   "cell_type": "code",
   "execution_count": 7,
   "metadata": {},
   "outputs": [
    {
     "data": {
      "text/html": [
       "<div>\n",
       "<style scoped>\n",
       "    .dataframe tbody tr th:only-of-type {\n",
       "        vertical-align: middle;\n",
       "    }\n",
       "\n",
       "    .dataframe tbody tr th {\n",
       "        vertical-align: top;\n",
       "    }\n",
       "\n",
       "    .dataframe thead th {\n",
       "        text-align: right;\n",
       "    }\n",
       "</style>\n",
       "<table border=\"1\" class=\"dataframe\">\n",
       "  <thead>\n",
       "    <tr style=\"text-align: right;\">\n",
       "      <th></th>\n",
       "      <th>JobID</th>\n",
       "      <th>Luong</th>\n",
       "    </tr>\n",
       "  </thead>\n",
       "  <tbody>\n",
       "    <tr>\n",
       "      <th>0</th>\n",
       "      <td>JobID1</td>\n",
       "      <td>500000</td>\n",
       "    </tr>\n",
       "    <tr>\n",
       "      <th>1</th>\n",
       "      <td>JobID2</td>\n",
       "      <td>200000</td>\n",
       "    </tr>\n",
       "    <tr>\n",
       "      <th>2</th>\n",
       "      <td>JobID3</td>\n",
       "      <td>300000</td>\n",
       "    </tr>\n",
       "    <tr>\n",
       "      <th>3</th>\n",
       "      <td>JobID4</td>\n",
       "      <td>400000</td>\n",
       "    </tr>\n",
       "    <tr>\n",
       "      <th>4</th>\n",
       "      <td>JobID5</td>\n",
       "      <td>250000</td>\n",
       "    </tr>\n",
       "  </tbody>\n",
       "</table>\n",
       "</div>"
      ],
      "text/plain": [
       "    JobID   Luong\n",
       "0  JobID1  500000\n",
       "1  JobID2  200000\n",
       "2  JobID3  300000\n",
       "3  JobID4  400000\n",
       "4  JobID5  250000"
      ]
     },
     "execution_count": 7,
     "metadata": {},
     "output_type": "execute_result"
    }
   ],
   "source": [
    "train_sal.head()\n"
   ]
  },
  {
   "cell_type": "code",
   "execution_count": 8,
   "metadata": {},
   "outputs": [
    {
     "data": {
      "text/html": [
       "<div>\n",
       "<style scoped>\n",
       "    .dataframe tbody tr th:only-of-type {\n",
       "        vertical-align: middle;\n",
       "    }\n",
       "\n",
       "    .dataframe tbody tr th {\n",
       "        vertical-align: top;\n",
       "    }\n",
       "\n",
       "    .dataframe thead th {\n",
       "        text-align: right;\n",
       "    }\n",
       "</style>\n",
       "<table border=\"1\" class=\"dataframe\">\n",
       "  <thead>\n",
       "    <tr style=\"text-align: right;\">\n",
       "      <th></th>\n",
       "      <th>JobID</th>\n",
       "      <th>TenCongTy</th>\n",
       "      <th>ChucVu</th>\n",
       "      <th>TrinhDoHocVan</th>\n",
       "      <th>ChuyenMon</th>\n",
       "      <th>ChuyenNganh</th>\n",
       "      <th>NamKinhNghiem</th>\n",
       "      <th>milesFromMetropolis</th>\n",
       "    </tr>\n",
       "  </thead>\n",
       "  <tbody>\n",
       "    <tr>\n",
       "      <th>0</th>\n",
       "      <td>JobID1</td>\n",
       "      <td>FPT</td>\n",
       "      <td>CEO</td>\n",
       "      <td>MASTERS</td>\n",
       "      <td>JAVA</td>\n",
       "      <td>mobile</td>\n",
       "      <td>7</td>\n",
       "      <td>83</td>\n",
       "    </tr>\n",
       "    <tr>\n",
       "      <th>1</th>\n",
       "      <td>JobID2</td>\n",
       "      <td>FSI</td>\n",
       "      <td>MANAGER</td>\n",
       "      <td>HIGH_SCHOOL</td>\n",
       "      <td>PHP</td>\n",
       "      <td>web</td>\n",
       "      <td>6</td>\n",
       "      <td>73</td>\n",
       "    </tr>\n",
       "    <tr>\n",
       "      <th>2</th>\n",
       "      <td>JobID3</td>\n",
       "      <td>EPU</td>\n",
       "      <td>LEAD</td>\n",
       "      <td>MASTERS</td>\n",
       "      <td>PYTHON</td>\n",
       "      <td>R&amp;D</td>\n",
       "      <td>5</td>\n",
       "      <td>38</td>\n",
       "    </tr>\n",
       "    <tr>\n",
       "      <th>3</th>\n",
       "      <td>JobID4</td>\n",
       "      <td>VIETTEL</td>\n",
       "      <td>VICE PRESIDENT</td>\n",
       "      <td>DOCTORAL</td>\n",
       "      <td>PTS</td>\n",
       "      <td>design</td>\n",
       "      <td>6</td>\n",
       "      <td>10</td>\n",
       "    </tr>\n",
       "    <tr>\n",
       "      <th>4</th>\n",
       "      <td>JobID5</td>\n",
       "      <td>ABC</td>\n",
       "      <td>LEAD</td>\n",
       "      <td>DOCTORAL</td>\n",
       "      <td>SQL</td>\n",
       "      <td>B.A</td>\n",
       "      <td>8</td>\n",
       "      <td>17</td>\n",
       "    </tr>\n",
       "  </tbody>\n",
       "</table>\n",
       "</div>"
      ],
      "text/plain": [
       "    JobID TenCongTy          ChucVu TrinhDoHocVan ChuyenMon ChuyenNganh  \\\n",
       "0  JobID1       FPT             CEO       MASTERS      JAVA      mobile   \n",
       "1  JobID2       FSI         MANAGER   HIGH_SCHOOL       PHP         web   \n",
       "2  JobID3       EPU            LEAD       MASTERS    PYTHON         R&D   \n",
       "3  JobID4   VIETTEL  VICE PRESIDENT      DOCTORAL       PTS      design   \n",
       "4  JobID5       ABC            LEAD      DOCTORAL       SQL         B.A   \n",
       "\n",
       "   NamKinhNghiem  milesFromMetropolis  \n",
       "0              7                   83  \n",
       "1              6                   73  \n",
       "2              5                   38  \n",
       "3              6                   10  \n",
       "4              8                   17  "
      ]
     },
     "execution_count": 8,
     "metadata": {},
     "output_type": "execute_result"
    }
   ],
   "source": [
    "test_feat.head()"
   ]
  },
  {
   "cell_type": "code",
   "execution_count": 9,
   "metadata": {},
   "outputs": [
    {
     "name": "stdout",
     "output_type": "stream",
     "text": [
      "(6, 8)\n",
      "(6, 2)\n",
      "(6, 8)\n"
     ]
    }
   ],
   "source": [
    "print(train_feat.shape)\n",
    "print(train_sal.shape)\n",
    "print(test_feat.shape)"
   ]
  },
  {
   "cell_type": "code",
   "execution_count": 10,
   "metadata": {},
   "outputs": [
    {
     "data": {
      "text/html": [
       "<div>\n",
       "<style scoped>\n",
       "    .dataframe tbody tr th:only-of-type {\n",
       "        vertical-align: middle;\n",
       "    }\n",
       "\n",
       "    .dataframe tbody tr th {\n",
       "        vertical-align: top;\n",
       "    }\n",
       "\n",
       "    .dataframe thead th {\n",
       "        text-align: right;\n",
       "    }\n",
       "</style>\n",
       "<table border=\"1\" class=\"dataframe\">\n",
       "  <thead>\n",
       "    <tr style=\"text-align: right;\">\n",
       "      <th></th>\n",
       "      <th>JobID</th>\n",
       "      <th>TenCongTy</th>\n",
       "      <th>ChucVu</th>\n",
       "      <th>TrinhDoHocVan</th>\n",
       "      <th>ChuyenMon</th>\n",
       "      <th>ChuyenNganh</th>\n",
       "      <th>NamKinhNghiem</th>\n",
       "      <th>milesFromMetropolis</th>\n",
       "      <th>Luong</th>\n",
       "    </tr>\n",
       "  </thead>\n",
       "  <tbody>\n",
       "    <tr>\n",
       "      <th>0</th>\n",
       "      <td>JobID1</td>\n",
       "      <td>FPT</td>\n",
       "      <td>CEO</td>\n",
       "      <td>MASTERS</td>\n",
       "      <td>JAVA</td>\n",
       "      <td>mobile</td>\n",
       "      <td>10</td>\n",
       "      <td>83</td>\n",
       "      <td>500000</td>\n",
       "    </tr>\n",
       "    <tr>\n",
       "      <th>1</th>\n",
       "      <td>JobID2</td>\n",
       "      <td>FSI</td>\n",
       "      <td>CFO</td>\n",
       "      <td>HIGH_SCHOOL</td>\n",
       "      <td>PHP</td>\n",
       "      <td>web</td>\n",
       "      <td>3</td>\n",
       "      <td>73</td>\n",
       "      <td>200000</td>\n",
       "    </tr>\n",
       "    <tr>\n",
       "      <th>2</th>\n",
       "      <td>JobID3</td>\n",
       "      <td>EPU</td>\n",
       "      <td>MANAGER</td>\n",
       "      <td>MASTERS</td>\n",
       "      <td>PYTHON</td>\n",
       "      <td>R&amp;D</td>\n",
       "      <td>19</td>\n",
       "      <td>38</td>\n",
       "      <td>300000</td>\n",
       "    </tr>\n",
       "    <tr>\n",
       "      <th>3</th>\n",
       "      <td>JobID4</td>\n",
       "      <td>VIETTEL</td>\n",
       "      <td>LEAD</td>\n",
       "      <td>DOCTORAL</td>\n",
       "      <td>PTS</td>\n",
       "      <td>design</td>\n",
       "      <td>8</td>\n",
       "      <td>10</td>\n",
       "      <td>400000</td>\n",
       "    </tr>\n",
       "    <tr>\n",
       "      <th>4</th>\n",
       "      <td>JobID5</td>\n",
       "      <td>ABC</td>\n",
       "      <td>LEAD</td>\n",
       "      <td>DOCTORAL</td>\n",
       "      <td>SQL</td>\n",
       "      <td>B.A</td>\n",
       "      <td>8</td>\n",
       "      <td>17</td>\n",
       "      <td>250000</td>\n",
       "    </tr>\n",
       "  </tbody>\n",
       "</table>\n",
       "</div>"
      ],
      "text/plain": [
       "    JobID TenCongTy   ChucVu TrinhDoHocVan ChuyenMon ChuyenNganh  \\\n",
       "0  JobID1       FPT      CEO       MASTERS      JAVA      mobile   \n",
       "1  JobID2       FSI      CFO   HIGH_SCHOOL       PHP         web   \n",
       "2  JobID3       EPU  MANAGER       MASTERS    PYTHON         R&D   \n",
       "3  JobID4   VIETTEL     LEAD      DOCTORAL       PTS      design   \n",
       "4  JobID5       ABC     LEAD      DOCTORAL       SQL         B.A   \n",
       "\n",
       "   NamKinhNghiem  milesFromMetropolis   Luong  \n",
       "0             10                   83  500000  \n",
       "1              3                   73  200000  \n",
       "2             19                   38  300000  \n",
       "3              8                   10  400000  \n",
       "4              8                   17  250000  "
      ]
     },
     "execution_count": 10,
     "metadata": {},
     "output_type": "execute_result"
    }
   ],
   "source": [
    "train_data = pd.merge(train_feat, train_sal, on ='JobID')\n",
    "\n",
    "# Check features of merged data\n",
    "train_data.head()"
   ]
  },
  {
   "cell_type": "code",
   "execution_count": 11,
   "metadata": {},
   "outputs": [
    {
     "data": {
      "text/plain": [
       "(6, 9)"
      ]
     },
     "execution_count": 11,
     "metadata": {},
     "output_type": "execute_result"
    }
   ],
   "source": [
    "train_data.shape"
   ]
  },
  {
   "cell_type": "code",
   "execution_count": 12,
   "metadata": {},
   "outputs": [
    {
     "data": {
      "text/plain": [
       "JobID                  0\n",
       "TenCongTy              0\n",
       "ChucVu                 0\n",
       "TrinhDoHocVan          0\n",
       "ChuyenMon              0\n",
       "ChuyenNganh            0\n",
       "NamKinhNghiem          0\n",
       "milesFromMetropolis    0\n",
       "Luong                  0\n",
       "dtype: int64"
      ]
     },
     "execution_count": 12,
     "metadata": {},
     "output_type": "execute_result"
    }
   ],
   "source": [
    "# Check for missing data\n",
    "missing_data = train_data.isnull().sum()\n",
    "missing_data"
   ]
  },
  {
   "cell_type": "code",
   "execution_count": 15,
   "metadata": {},
   "outputs": [
    {
     "data": {
      "text/html": [
       "<div>\n",
       "<style scoped>\n",
       "    .dataframe tbody tr th:only-of-type {\n",
       "        vertical-align: middle;\n",
       "    }\n",
       "\n",
       "    .dataframe tbody tr th {\n",
       "        vertical-align: top;\n",
       "    }\n",
       "\n",
       "    .dataframe thead th {\n",
       "        text-align: right;\n",
       "    }\n",
       "</style>\n",
       "<table border=\"1\" class=\"dataframe\">\n",
       "  <thead>\n",
       "    <tr style=\"text-align: right;\">\n",
       "      <th></th>\n",
       "      <th>JobID</th>\n",
       "      <th>TenCongTy</th>\n",
       "      <th>ChucVu</th>\n",
       "      <th>TrinhDoHocVan</th>\n",
       "      <th>ChuyenMon</th>\n",
       "      <th>ChuyenNganh</th>\n",
       "      <th>NamKinhNghiem</th>\n",
       "      <th>milesFromMetropolis</th>\n",
       "      <th>Luong</th>\n",
       "    </tr>\n",
       "  </thead>\n",
       "  <tbody>\n",
       "  </tbody>\n",
       "</table>\n",
       "</div>"
      ],
      "text/plain": [
       "Empty DataFrame\n",
       "Columns: [JobID, TenCongTy, ChucVu, TrinhDoHocVan, ChuyenMon, ChuyenNganh, NamKinhNghiem, milesFromMetropolis, Luong]\n",
       "Index: []"
      ]
     },
     "execution_count": 15,
     "metadata": {},
     "output_type": "execute_result"
    }
   ],
   "source": [
    "# Check for invalid salaries\n",
    "zero_salary = train_data['Luong']<=0\n",
    "invalid_salary = train_data[zero_salary]\n",
    "\n",
    "invalid_salary"
   ]
  },
  {
   "cell_type": "code",
   "execution_count": 17,
   "metadata": {},
   "outputs": [
    {
     "data": {
      "text/plain": [
       "JobID                  category\n",
       "TenCongTy              category\n",
       "ChucVu                 category\n",
       "TrinhDoHocVan          category\n",
       "ChuyenMon              category\n",
       "ChuyenNganh            category\n",
       "NamKinhNghiem             int64\n",
       "milesFromMetropolis       int64\n",
       "Luong                     int64\n",
       "dtype: object"
      ]
     },
     "execution_count": 17,
     "metadata": {},
     "output_type": "execute_result"
    }
   ],
   "source": [
    "# Define categorical variables\n",
    "train_data['JobID']=pd.Categorical(train_data['JobID'])\n",
    "train_data['TenCongTy']=pd.Categorical(train_data['TenCongTy'])\n",
    "train_data['ChucVu']=pd.Categorical(train_data['ChucVu'])\n",
    "train_data['TrinhDoHocVan']=pd.Categorical(train_data['TrinhDoHocVan'])\n",
    "train_data['ChuyenMon']=pd.Categorical(train_data['ChuyenMon'])\n",
    "train_data['ChuyenNganh']=pd.Categorical(train_data['ChuyenNganh'])\n",
    "train_data.dtypes"
   ]
  },
  {
   "cell_type": "code",
   "execution_count": 18,
   "metadata": {},
   "outputs": [
    {
     "data": {
      "text/html": [
       "<div>\n",
       "<style scoped>\n",
       "    .dataframe tbody tr th:only-of-type {\n",
       "        vertical-align: middle;\n",
       "    }\n",
       "\n",
       "    .dataframe tbody tr th {\n",
       "        vertical-align: top;\n",
       "    }\n",
       "\n",
       "    .dataframe thead th {\n",
       "        text-align: right;\n",
       "    }\n",
       "</style>\n",
       "<table border=\"1\" class=\"dataframe\">\n",
       "  <thead>\n",
       "    <tr style=\"text-align: right;\">\n",
       "      <th></th>\n",
       "      <th>NamKinhNghiem</th>\n",
       "      <th>milesFromMetropolis</th>\n",
       "      <th>Luong</th>\n",
       "    </tr>\n",
       "  </thead>\n",
       "  <tbody>\n",
       "    <tr>\n",
       "      <th>count</th>\n",
       "      <td>6.000000</td>\n",
       "      <td>6.00000</td>\n",
       "      <td>6.000000</td>\n",
       "    </tr>\n",
       "    <tr>\n",
       "      <th>mean</th>\n",
       "      <td>9.166667</td>\n",
       "      <td>39.50000</td>\n",
       "      <td>276666.666667</td>\n",
       "    </tr>\n",
       "    <tr>\n",
       "      <th>std</th>\n",
       "      <td>5.344779</td>\n",
       "      <td>31.44996</td>\n",
       "      <td>169312.334656</td>\n",
       "    </tr>\n",
       "    <tr>\n",
       "      <th>min</th>\n",
       "      <td>3.000000</td>\n",
       "      <td>10.00000</td>\n",
       "      <td>10000.000000</td>\n",
       "    </tr>\n",
       "    <tr>\n",
       "      <th>25%</th>\n",
       "      <td>7.250000</td>\n",
       "      <td>16.25000</td>\n",
       "      <td>212500.000000</td>\n",
       "    </tr>\n",
       "    <tr>\n",
       "      <th>50%</th>\n",
       "      <td>8.000000</td>\n",
       "      <td>27.50000</td>\n",
       "      <td>275000.000000</td>\n",
       "    </tr>\n",
       "    <tr>\n",
       "      <th>75%</th>\n",
       "      <td>9.500000</td>\n",
       "      <td>64.25000</td>\n",
       "      <td>375000.000000</td>\n",
       "    </tr>\n",
       "    <tr>\n",
       "      <th>max</th>\n",
       "      <td>19.000000</td>\n",
       "      <td>83.00000</td>\n",
       "      <td>500000.000000</td>\n",
       "    </tr>\n",
       "  </tbody>\n",
       "</table>\n",
       "</div>"
      ],
      "text/plain": [
       "       NamKinhNghiem  milesFromMetropolis          Luong\n",
       "count       6.000000              6.00000       6.000000\n",
       "mean        9.166667             39.50000  276666.666667\n",
       "std         5.344779             31.44996  169312.334656\n",
       "min         3.000000             10.00000   10000.000000\n",
       "25%         7.250000             16.25000  212500.000000\n",
       "50%         8.000000             27.50000  275000.000000\n",
       "75%         9.500000             64.25000  375000.000000\n",
       "max        19.000000             83.00000  500000.000000"
      ]
     },
     "execution_count": 18,
     "metadata": {},
     "output_type": "execute_result"
    }
   ],
   "source": [
    "train_data.describe()"
   ]
  },
  {
   "cell_type": "code",
   "execution_count": 19,
   "metadata": {},
   "outputs": [
    {
     "data": {
      "text/plain": [
       "JobID                  6\n",
       "TenCongTy              6\n",
       "ChucVu                 5\n",
       "TrinhDoHocVan          3\n",
       "ChuyenMon              5\n",
       "ChuyenNganh            6\n",
       "NamKinhNghiem          5\n",
       "milesFromMetropolis    6\n",
       "Luong                  6\n",
       "dtype: int64"
      ]
     },
     "execution_count": 19,
     "metadata": {},
     "output_type": "execute_result"
    }
   ],
   "source": [
    "# Unique values in train_data\n",
    "train_data.nunique()"
   ]
  },
  {
   "cell_type": "code",
   "execution_count": 20,
   "metadata": {},
   "outputs": [
    {
     "data": {
      "text/html": [
       "<div>\n",
       "<style scoped>\n",
       "    .dataframe tbody tr th:only-of-type {\n",
       "        vertical-align: middle;\n",
       "    }\n",
       "\n",
       "    .dataframe tbody tr th {\n",
       "        vertical-align: top;\n",
       "    }\n",
       "\n",
       "    .dataframe thead th {\n",
       "        text-align: right;\n",
       "    }\n",
       "</style>\n",
       "<table border=\"1\" class=\"dataframe\">\n",
       "  <thead>\n",
       "    <tr style=\"text-align: right;\">\n",
       "      <th></th>\n",
       "      <th>NamKinhNghiem</th>\n",
       "      <th>milesFromMetropolis</th>\n",
       "      <th>Luong</th>\n",
       "    </tr>\n",
       "  </thead>\n",
       "  <tbody>\n",
       "    <tr>\n",
       "      <th>NamKinhNghiem</th>\n",
       "      <td>1.000000</td>\n",
       "      <td>-0.087452</td>\n",
       "      <td>0.299100</td>\n",
       "    </tr>\n",
       "    <tr>\n",
       "      <th>milesFromMetropolis</th>\n",
       "      <td>-0.087452</td>\n",
       "      <td>1.000000</td>\n",
       "      <td>0.388367</td>\n",
       "    </tr>\n",
       "    <tr>\n",
       "      <th>Luong</th>\n",
       "      <td>0.299100</td>\n",
       "      <td>0.388367</td>\n",
       "      <td>1.000000</td>\n",
       "    </tr>\n",
       "  </tbody>\n",
       "</table>\n",
       "</div>"
      ],
      "text/plain": [
       "                     NamKinhNghiem  milesFromMetropolis     Luong\n",
       "NamKinhNghiem             1.000000            -0.087452  0.299100\n",
       "milesFromMetropolis      -0.087452             1.000000  0.388367\n",
       "Luong                     0.299100             0.388367  1.000000"
      ]
     },
     "execution_count": 20,
     "metadata": {},
     "output_type": "execute_result"
    }
   ],
   "source": [
    "train_data.corr()"
   ]
  },
  {
   "cell_type": "code",
   "execution_count": 23,
   "metadata": {},
   "outputs": [
    {
     "name": "stdout",
     "output_type": "stream",
     "text": [
      "Salary Skewness: -0.39585571807350234\n",
      "Salary Kurtosis: 0.4037669010275833\n",
      "\n",
      "Salary distribution is approximately symmetric\n"
     ]
    },
    {
     "name": "stderr",
     "output_type": "stream",
     "text": [
      "D:\\Anaconda3\\lib\\site-packages\\matplotlib\\axes\\_axes.py:6462: UserWarning: The 'normed' kwarg is deprecated, and has been replaced by the 'density' kwarg.\n",
      "  warnings.warn(\"The 'normed' kwarg is deprecated, and has been \"\n"
     ]
    },
    {
     "data": {
      "text/plain": [
       "<matplotlib.legend.Legend at 0x23dd81fa7f0>"
      ]
     },
     "execution_count": 23,
     "metadata": {},
     "output_type": "execute_result"
    },
    {
     "data": {
      "image/png": "[encoded data removed]",
      "text/plain": [
       "<Figure size 432x288 with 1 Axes>"
      ]
     },
     "metadata": {},
     "output_type": "display_data"
    }
   ],
   "source": [
    "# Find amount of skewness and kurtosis. Plot distribution curve (blue) next to normal distribution (black).\n",
    "print('Salary Skewness:', train_data['Luong'].skew())\n",
    "print('Salary Kurtosis:', train_data['Luong'].kurt())\n",
    "print()\n",
    "if -0.5 <= train_data['Luong'].skew() <= 0.5:\n",
    "    print('Salary distribution is approximately symmetric')\n",
    "elif -0.5 >  train_data['salary'] > 0.5:\n",
    "    print('Salary distribution is skewed')\n",
    "\n",
    "sns.distplot(train_data['Luong'], fit=norm, label='LuongS')\n",
    "plt.legend()"
   ]
  },
  {
   "cell_type": "code",
   "execution_count": 27,
   "metadata": {},
   "outputs": [
    {
     "data": {
      "text/plain": [
       "(0, 2319167.3251800314)"
      ]
     },
     "execution_count": 27,
     "metadata": {},
     "output_type": "execute_result"
    },
    {
     "data": {
      "image/png": "[encoded data removed]",
      "text/plain": [
       "<Figure size 864x720 with 1 Axes>"
      ]
     },
     "metadata": {},
     "output_type": "display_data"
    }
   ],
   "source": [
    "# Plot regression line on years of experience\n",
    "width = 12\n",
    "height = 10\n",
    "plt.figure(figsize=(width, height))\n",
    "sns.regplot(x='NamKinhNghiem', y='Luong', data=train_data, line_kws={'color':'red'})\n",
    "plt.ylim(0,)"
   ]
  },
  {
   "cell_type": "code",
   "execution_count": 29,
   "metadata": {},
   "outputs": [
    {
     "data": {
      "image/png": "[encoded data removed]",
      "text/plain": [
       "<Figure size 864x720 with 1 Axes>"
      ]
     },
     "metadata": {},
     "output_type": "display_data"
    }
   ],
   "source": [
    "# Plot variance of years of experience\n",
    "width = 12\n",
    "height = 10\n",
    "plt.figure(figsize=(width, height))\n",
    "sns.residplot(train_data['NamKinhNghiem'], train_data['Luong'])\n",
    "plt.show()"
   ]
  },
  {
   "cell_type": "code",
   "execution_count": 31,
   "metadata": {},
   "outputs": [
    {
     "data": {
      "text/plain": [
       "<matplotlib.axes._subplots.AxesSubplot at 0x23dd8a137b8>"
      ]
     },
     "execution_count": 31,
     "metadata": {},
     "output_type": "execute_result"
    },
    {
     "data": {
      "image/png": "[encoded data removed]",
      "text/plain": [
       "<Figure size 864x720 with 1 Axes>"
      ]
     },
     "metadata": {},
     "output_type": "display_data"
    }
   ],
   "source": [
    "# Plot regression line on years of experience\n",
    "width = 12\n",
    "height = 10\n",
    "plt.figure(figsize=(width, height))\n",
    "sns.regplot(x='milesFromMetropolis', y='Luong', data=train_data, line_kws={'color':'red'})"
   ]
  },
  {
   "cell_type": "code",
   "execution_count": 32,
   "metadata": {},
   "outputs": [
    {
     "data": {
      "text/plain": [
       "(array([0, 1, 2, 3, 4, 5]), <a list of 6 Text xticklabel objects>)"
      ]
     },
     "execution_count": 32,
     "metadata": {},
     "output_type": "execute_result"
    },
    {
     "data": {
      "image/png": "[encoded data removed]",
      "text/plain": [
       "<Figure size 1152x576 with 1 Axes>"
      ]
     },
     "metadata": {},
     "output_type": "display_data"
    }
   ],
   "source": [
    "# Plot boxplots for companyId\n",
    "width = 16\n",
    "height = 8\n",
    "var = 'TenCongTy'\n",
    "data = pd.concat([train_data['Luong'], train_data[var]], axis=1)\n",
    "f, ax = plt.subplots(figsize=(width, height))\n",
    "fig = sns.boxplot(x=var, y='Luong', data=data)\n",
    "plt.xticks(rotation=90)"
   ]
  },
  {
   "cell_type": "code",
   "execution_count": null,
   "metadata": {},
   "outputs": [],
   "source": []
  }
 ],
 "metadata": {
  "kernelspec": {
   "display_name": "Python 3",
   "language": "python",
   "name": "python3"
  },
  "language_info": {
   "codemirror_mode": {
    "name": "ipython",
    "version": 3
   },
   "file_extension": ".py",
   "mimetype": "text/x-python",
   "name": "python",
   "nbconvert_exporter": "python",
   "pygments_lexer": "ipython3",
   "version": "3.6.5"
  }
 },
 "nbformat": 4,
 "nbformat_minor": 2
}
