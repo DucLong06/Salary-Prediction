{
 "cells": [
  {
   "cell_type": "code",
   "execution_count": 1,
   "metadata": {},
   "outputs": [],
   "source": [
    "import random\n",
    "import time\n",
    "import pandas as pd"
   ]
  },
  {
   "cell_type": "code",
   "execution_count": 2,
   "metadata": {},
   "outputs": [],
   "source": [
    "def str_time_prop(start, end, format, prop):\n",
    "   \n",
    "    stime = time.mktime(time.strptime(start, format))\n",
    "    etime = time.mktime(time.strptime(end, format))\n",
    "\n",
    "    ptime = stime + prop * (etime - stime)\n",
    "\n",
    "    return time.strftime(format, time.localtime(ptime))\n",
    "\n",
    "\n",
    "def random_date(start, end, prop):\n",
    "    return str_time_prop(start, end, '%d/%m/%Y ', prop)\n",
    "\n",
    "def add_data(l,data):\n",
    "    l.append(random.choice(data))"
   ]
  },
  {
   "cell_type": "code",
   "execution_count": 3,
   "metadata": {},
   "outputs": [
    {
     "name": "stdout",
     "output_type": "stream",
     "text": [
      "Nhập số lượng user cần fake :1000\n"
     ]
    }
   ],
   "source": [
    "len_list = int(input(\"Nhập số lượng user cần fake :\"))\n",
    "\n",
    "# ID\n",
    "ID = []\n",
    "for i in range(len_list):\n",
    "    temp = \"FSI_\" + str(i)\n",
    "    ID.append(temp)\n",
    "# print(ID)"
   ]
  },
  {
   "cell_type": "markdown",
   "metadata": {},
   "source": [
    "### Thời gian đi làm (tính theo tháng):"
   ]
  },
  {
   "cell_type": "code",
   "execution_count": 4,
   "metadata": {},
   "outputs": [],
   "source": [
    "so_lan = ['1', '2', '3', '4', '5', '2', '1', '1','2','3','4','5','0','0','0','0','0']\n",
    "di_muon = []\n",
    "di_ve_som = []\n",
    "vang_co_phep = []\n",
    "vang_khong_phep = []\n",
    "OT = []\n",
    "for i in range(len_list):\n",
    "    # Số lần đi muộn\n",
    "    add_data(di_muon,so_lan)\n",
    "    # Số lần đi về sớm \n",
    "    add_data(di_ve_som,so_lan)\n",
    "    # Số lần vắng có phép\n",
    "    add_data(vang_co_phep,so_lan)\n",
    "    # Số lần vắng không phép \n",
    "    add_data(vang_khong_phep,so_lan)\n",
    "    # Tổng số thời gian vắng mặt\n",
    "\n",
    "    # Số lần làm thêm ngoài giờ\n",
    "    add_data(OT,so_lan)"
   ]
  },
  {
   "cell_type": "markdown",
   "metadata": {},
   "source": [
    "### Công Việc"
   ]
  },
  {
   "cell_type": "code",
   "execution_count": 5,
   "metadata": {},
   "outputs": [],
   "source": [
    "dat_duoc = ['70','80','90','100']\n",
    "so_du_an =['1','1','1','1','2','3','1']\n",
    "du_an =['tot','tot','tot','trung binh','trung binh','trung binh','trung binh','trung binh','yeu','yeu']\n",
    "\n",
    "muc_tieu = []\n",
    "du_an = []\n",
    "chat_luong = []\n",
    "\n",
    "for i in range(len_list):\n",
    "    # Đạt mục tiêu đề ra :\n",
    "    add_data(muc_tieu,dat_duoc)\n",
    "    # Số dự án nhận trong 1 tháng :\n",
    "    add_data(du_an,so_lan)    \n",
    "    # Chất lượng hoàn thành dự án :\n",
    "    add_data(chat_luong,du_an)    "
   ]
  },
  {
   "cell_type": "markdown",
   "metadata": {},
   "source": [
    "### Thời gian ở công ty"
   ]
  },
  {
   "cell_type": "code",
   "execution_count": 6,
   "metadata": {},
   "outputs": [],
   "source": [
    "thoi_gian = ['1', '2', '3', '1', '1', '2', '1', '1','2','3','1','1']\n",
    "lam_viec = ['part time','full time','nghi phep']\n",
    "\n",
    "hop_dong = []\n",
    "ngay_danh_gia_cuoi = []\n",
    "so_nam_o_cong_ty = []\n",
    "so_nam_trong_vi_tri_hien_tai  = []\n",
    "ngay_tang_luong_cuoi = []\n",
    "tinh_trang_lam_viec = []\n",
    "\n",
    "for i in range(len_list) :\n",
    "    # Thời hạn hợp đồng còn (năm ):\n",
    "    add_data(hop_dong,thoi_gian)\n",
    "    # ngày đánh giá hiệu suất cuối cùng \n",
    "    ngay_danh_gia_cuoi.append(random_date('8/9/2019 ','8/9/2020 ',random.random()))\n",
    "    # số năm ở công ty :\n",
    "    add_data(so_nam_o_cong_ty,so_lan)\n",
    "    # Số năm trong vai trò(vị trí) hiện tại :\n",
    "    add_data(so_nam_trong_vi_tri_hien_tai,so_lan)\n",
    "    # năm kể từ lần cuối được thăng hạng (tăng lương)\n",
    "    ngay_tang_luong_cuoi.append(random_date('8/9/2019 ','8/9/2020 ',random.random()))\n",
    "    # tình trạng làm việc\n",
    "    add_data(tinh_trang_lam_viec,lam_viec)\n",
    "    # số nhân viên dưới quyền \n",
    "    \n",
    "    # số công ty đã từng làm việ"
   ]
  },
  {
   "cell_type": "markdown",
   "metadata": {},
   "source": [
    "### Gia đình"
   ]
  },
  {
   "cell_type": "code",
   "execution_count": 7,
   "metadata": {},
   "outputs": [],
   "source": [
    "gia_dinh = ['co gia dinh','chua co gia dinh']\n",
    "so_con =['1','1','2','2','1','2','1','2','1','2','0','0','0','0','3']\n",
    "\n",
    "tt_hon_nhan = []\n",
    "con = []\n",
    "\n",
    "for i in range(len_list):\n",
    "    # tình trạng hôn nhân\n",
    "    add_data(tt_hon_nhan,gia_dinh)\n",
    "    # số con \n",
    "    add_data(con,so_con)"
   ]
  },
  {
   "cell_type": "markdown",
   "metadata": {},
   "source": [
    "### Sức khỏe"
   ]
  },
  {
   "cell_type": "code",
   "execution_count": 8,
   "metadata": {},
   "outputs": [],
   "source": [
    "chieu_cao = ['150','165','170','180','160','175']\n",
    "can_nang = ['60','40','50','70']\n",
    "suc_khoe = ['dang bi benh','khong bi benh']\n",
    "co_khong = ['co','khong']\n",
    "\n",
    "cao = []\n",
    "can = []\n",
    "khoe = []\n",
    "hut_thuoc = []\n",
    "ruou = []\n",
    "\n",
    "for i in range(len_list):\n",
    "    # chiều cao (cm)\n",
    "    add_data(cao,chieu_cao)\n",
    "    # cân nặng (kg)\n",
    "    add_data(can,can_nang)\n",
    "    # tình trạng sức khỏe :\n",
    "    add_data(khoe,suc_khoe)\n",
    "    # hút thuốc \n",
    "    add_data(hut_thuoc,co_khong)\n",
    "    # uống rượu \n",
    "    add_data(ruou,co_khong)"
   ]
  },
  {
   "cell_type": "markdown",
   "metadata": {},
   "source": [
    "### Điều kiện sống"
   ]
  },
  {
   "cell_type": "code",
   "execution_count": 9,
   "metadata": {},
   "outputs": [
    {
     "name": "stdout",
     "output_type": "stream",
     "text": [
      "1000\n",
      "\n"
     ]
    }
   ],
   "source": [
    "xe =['oto','xe may','xe may','oto','xe may','xe may','xe may','bus','bus']\n",
    "\n",
    "phuong_tien = []\n",
    "\n",
    "for i in range(len_list):\n",
    "    # phương tiện đi lại \n",
    "    add_data(phuong_tien,xe)\n",
    "print(len(vang_co_phep))\n",
    "print()"
   ]
  },
  {
   "cell_type": "markdown",
   "metadata": {},
   "source": [
    "### Tạo dataframe ghi vào file csv"
   ]
  },
  {
   "cell_type": "code",
   "execution_count": 10,
   "metadata": {},
   "outputs": [],
   "source": [
    "data = pd.DataFrame()\n",
    "data['ID'] = ID\n",
    "\n",
    "# data['di_muon'] = di_muon\n",
    "data['di_ve_som'] = di_ve_som\n",
    "data['vang_co_phep'] = vang_co_phep\n",
    "data['vang_khong_phep'] = vang_khong_phep\n",
    "data['OT'] = OT\n",
    "\n",
    "data['muc_tieu_dat_duoc'] = muc_tieu\n",
    "data['du_an'] = du_an\n",
    "data['chat_luong_du_an'] = chat_luong\n",
    "\n",
    "data['thoi_han_hop_dong'] = hop_dong\n",
    "data['ngay_danh_gia_cuoi'] = ngay_danh_gia_cuoi\n",
    "data['so_nam_o_cong_ty'] = so_nam_o_cong_ty\n",
    "data['so_nam_trong_vi_tri_hien_tai'] = so_nam_trong_vi_tri_hien_tai\n",
    "data['ngay_tang_luong_cuoi'] = ngay_tang_luong_cuoi\n",
    "data['tinh_trang_lam_viec'] = tinh_trang_lam_viec\n",
    "\n",
    "data['tinh_trang_hon_nhan'] = tt_hon_nhan\n",
    "data['so_con'] = con\n",
    "\n",
    "data['chieu_cao'] = cao\n",
    "data['can_nang'] = can\n",
    "data['tinh_trang_suc_khoe'] = khoe\n",
    "data['Hut_thuoc'] = hut_thuoc\n",
    "data['Uong_ruou_bia'] = ruou\n",
    "\n",
    "data['Phuong_tien_di_chuyen'] = phuong_tien\n",
    "\n",
    "data.to_csv('dataFake.csv')"
   ]
  },
  {
   "cell_type": "code",
   "execution_count": null,
   "metadata": {},
   "outputs": [],
   "source": []
  }
 ],
 "metadata": {
  "kernelspec": {
   "display_name": "Python 3",
   "language": "python",
   "name": "python3"
  },
  "language_info": {
   "codemirror_mode": {
    "name": "ipython",
    "version": 3
   },
   "file_extension": ".py",
   "mimetype": "text/x-python",
   "name": "python",
   "nbconvert_exporter": "python",
   "pygments_lexer": "ipython3",
   "version": "3.6.5"
  }
 },
 "nbformat": 4,
 "nbformat_minor": 2
}
