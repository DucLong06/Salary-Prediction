{
 "cells": [
  {
   "cell_type": "code",
   "execution_count": 61,
   "metadata": {},
   "outputs": [],
   "source": [
    "import random\n",
    "import time\n",
    "import pandas as pd\n",
    "import matplotlib.pyplot as plt"
   ]
  },
  {
   "cell_type": "code",
   "execution_count": 49,
   "metadata": {},
   "outputs": [],
   "source": [
    "def str_time_prop(start, end, format, prop):\n",
    "   \n",
    "    stime = time.mktime(time.strptime(start, format))\n",
    "    etime = time.mktime(time.strptime(end, format))\n",
    "\n",
    "    ptime = stime + prop * (etime - stime)\n",
    "\n",
    "    return time.strftime(format, time.localtime(ptime))\n",
    "\n",
    "\n",
    "def random_date(start, end, prop):\n",
    "    return str_time_prop(start, end, '%d/%m/%Y ', prop)\n",
    "\n",
    "def add_data(l,data):\n",
    "    l.append(random.choice(data))"
   ]
  },
  {
   "cell_type": "code",
   "execution_count": 50,
   "metadata": {},
   "outputs": [
    {
     "name": "stdout",
     "output_type": "stream",
     "text": [
      "Nhập số lượng user cần fake :10000\n"
     ]
    }
   ],
   "source": [
    "len_list = int(input(\"Nhập số lượng user cần fake :\"))\n",
    "\n",
    "# ID\n",
    "ID = []\n",
    "for i in range(1,len_list+1):\n",
    "    temp = \"FSI_\" + str(i)\n",
    "    ID.append(temp)\n",
    "# print(ID)"
   ]
  },
  {
   "cell_type": "markdown",
   "metadata": {},
   "source": [
    "### Thời gian đi làm (tính theo tháng):"
   ]
  },
  {
   "cell_type": "code",
   "execution_count": 51,
   "metadata": {},
   "outputs": [],
   "source": [
    "so_lan = ['1', '2', '3', '4', '5', '2', '1', '1','2','3','4','5','0','0','0','0','0']\n",
    "di_muon = []\n",
    "di_ve_som = []\n",
    "vang_co_phep = []\n",
    "vang_khong_phep = []\n",
    "OT = []\n",
    "for i in range(len_list):\n",
    "    # Số lần đi muộn\n",
    "    add_data(di_muon,so_lan)\n",
    "    # Số lần đi về sớm \n",
    "    add_data(di_ve_som,so_lan)\n",
    "    # Số lần vắng có phép\n",
    "    add_data(vang_co_phep,so_lan)\n",
    "    # Số lần vắng không phép \n",
    "    add_data(vang_khong_phep,so_lan)\n",
    "    # Tổng số thời gian vắng mặt\n",
    "\n",
    "    # Số lần làm thêm ngoài giờ\n",
    "    add_data(OT,so_lan)"
   ]
  },
  {
   "cell_type": "markdown",
   "metadata": {},
   "source": [
    "### Công Việc"
   ]
  },
  {
   "cell_type": "code",
   "execution_count": 52,
   "metadata": {},
   "outputs": [],
   "source": [
    "dat_duoc = ['70','80','90','100']\n",
    "so_du_an =['1','1','1','1','2','3','1']\n",
    "du_an =['tot','tot','tot','trung binh','trung binh','trung binh','trung binh','trung binh','yeu','yeu']\n",
    "\n",
    "muc_tieu = []\n",
    "du_an = []\n",
    "chat_luong = []\n",
    "\n",
    "for i in range(len_list):\n",
    "    # Đạt mục tiêu đề ra :\n",
    "    add_data(muc_tieu,dat_duoc)\n",
    "    # Số dự án nhận trong 1 tháng :\n",
    "    add_data(du_an,so_lan)    \n",
    "    # Chất lượng hoàn thành dự án :\n",
    "    add_data(chat_luong,du_an)    "
   ]
  },
  {
   "cell_type": "markdown",
   "metadata": {},
   "source": [
    "### Thời gian ở công ty"
   ]
  },
  {
   "cell_type": "code",
   "execution_count": 53,
   "metadata": {},
   "outputs": [],
   "source": [
    "thoi_gian = ['1', '2', '3', '1', '1', '2', '1', '1','2','3','1','1']\n",
    "lam_viec = ['part time','full time','nghi phep']\n",
    "\n",
    "hop_dong = []\n",
    "ngay_danh_gia_cuoi = []\n",
    "so_nam_o_cong_ty = []\n",
    "so_nam_trong_vi_tri_hien_tai  = []\n",
    "ngay_tang_luong_cuoi = []\n",
    "tinh_trang_lam_viec = []\n",
    "\n",
    "for i in range(len_list) :\n",
    "    # Thời hạn hợp đồng còn (năm ):\n",
    "    add_data(hop_dong,thoi_gian)\n",
    "    # ngày đánh giá hiệu suất cuối cùng \n",
    "    ngay_danh_gia_cuoi.append(random_date('8/9/2019 ','8/9/2020 ',random.random()))\n",
    "    # số năm ở công ty :\n",
    "    add_data(so_nam_o_cong_ty,so_lan)\n",
    "    # Số năm trong vai trò(vị trí) hiện tại :\n",
    "    add_data(so_nam_trong_vi_tri_hien_tai,so_lan)\n",
    "    # năm kể từ lần cuối được thăng hạng (tăng lương)\n",
    "    ngay_tang_luong_cuoi.append(random_date('8/9/2019 ','8/9/2020 ',random.random()))\n",
    "    # tình trạng làm việc\n",
    "    add_data(tinh_trang_lam_viec,lam_viec)\n",
    "    # số nhân viên dưới quyền \n",
    "    \n",
    "    # số công ty đã từng làm việ"
   ]
  },
  {
   "cell_type": "markdown",
   "metadata": {},
   "source": [
    "### Gia đình"
   ]
  },
  {
   "cell_type": "code",
   "execution_count": 54,
   "metadata": {},
   "outputs": [],
   "source": [
    "gia_dinh = ['co gia dinh','chua co gia dinh']\n",
    "so_con =['1','1','2','2','1','2','1','2','1','2','0','0','0','0','3']\n",
    "\n",
    "tt_hon_nhan = []\n",
    "con = []\n",
    "\n",
    "for i in range(len_list):\n",
    "    # tình trạng hôn nhân\n",
    "    add_data(tt_hon_nhan,gia_dinh)\n",
    "    # số con \n",
    "    add_data(con,so_con)"
   ]
  },
  {
   "cell_type": "markdown",
   "metadata": {},
   "source": [
    "### Sức khỏe"
   ]
  },
  {
   "cell_type": "code",
   "execution_count": 55,
   "metadata": {},
   "outputs": [],
   "source": [
    "chieu_cao = ['150','165','170','180','160','175']\n",
    "can_nang = ['60','40','50','70']\n",
    "suc_khoe = ['dang bi benh','khong bi benh']\n",
    "co_khong = ['co','khong']\n",
    "\n",
    "cao = []\n",
    "can = []\n",
    "khoe = []\n",
    "hut_thuoc = []\n",
    "ruou = []\n",
    "\n",
    "for i in range(len_list):\n",
    "    # chiều cao (cm)\n",
    "    add_data(cao,chieu_cao)\n",
    "    # cân nặng (kg)\n",
    "    add_data(can,can_nang)\n",
    "    # tình trạng sức khỏe :\n",
    "    add_data(khoe,suc_khoe)\n",
    "    # hút thuốc \n",
    "    add_data(hut_thuoc,co_khong)\n",
    "    # uống rượu \n",
    "    add_data(ruou,co_khong)"
   ]
  },
  {
   "cell_type": "markdown",
   "metadata": {},
   "source": [
    "### Điều kiện sống"
   ]
  },
  {
   "cell_type": "code",
   "execution_count": 56,
   "metadata": {},
   "outputs": [],
   "source": [
    "xe =['oto','xe may','xe may','oto','xe may','xe may','xe may','bus','bus']\n",
    "\n",
    "phuong_tien = []\n",
    "\n",
    "for i in range(len_list):\n",
    "    # phương tiện đi lại \n",
    "    add_data(phuong_tien,xe)"
   ]
  },
  {
   "cell_type": "markdown",
   "metadata": {},
   "source": [
    "### Tạo dataframe ghi vào file csv"
   ]
  },
  {
   "cell_type": "code",
   "execution_count": 57,
   "metadata": {},
   "outputs": [],
   "source": [
    "data = pd.DataFrame()\n",
    "data['ID'] = ID\n",
    "\n",
    "data['di_muon'] = di_muon\n",
    "data['di_ve_som'] = di_ve_som\n",
    "data['vang_co_phep'] = vang_co_phep\n",
    "data['vang_khong_phep'] = vang_khong_phep\n",
    "data['OT'] = OT\n",
    "\n",
    "data['muc_tieu_dat_duoc'] = muc_tieu\n",
    "data['du_an'] = du_an\n",
    "data['chat_luong_du_an'] = chat_luong\n",
    "\n",
    "data['thoi_han_hop_dong'] = hop_dong\n",
    "data['ngay_danh_gia_cuoi'] = ngay_danh_gia_cuoi\n",
    "data['so_nam_o_cong_ty'] = so_nam_o_cong_ty\n",
    "data['so_nam_trong_vi_tri_hien_tai'] = so_nam_trong_vi_tri_hien_tai\n",
    "data['ngay_tang_luong_cuoi'] = ngay_tang_luong_cuoi\n",
    "data['tinh_trang_lam_viec'] = tinh_trang_lam_viec\n",
    "\n",
    "data['tinh_trang_hon_nhan'] = tt_hon_nhan\n",
    "data['so_con'] = con\n",
    "\n",
    "data['chieu_cao'] = cao\n",
    "data['can_nang'] = can\n",
    "data['tinh_trang_suc_khoe'] = khoe\n",
    "data['Hut_thuoc'] = hut_thuoc\n",
    "data['Uong_ruou_bia'] = ruou\n",
    "\n",
    "data['Phuong_tien_di_chuyen'] = phuong_tien\n"
   ]
  },
  {
   "cell_type": "code",
   "execution_count": 58,
   "metadata": {},
   "outputs": [],
   "source": [
    "data.to_csv('dataFake.csv')"
   ]
  },
  {
   "cell_type": "code",
   "execution_count": 59,
   "metadata": {},
   "outputs": [
    {
     "data": {
      "text/html": [
       "<div>\n",
       "<style scoped>\n",
       "    .dataframe tbody tr th:only-of-type {\n",
       "        vertical-align: middle;\n",
       "    }\n",
       "\n",
       "    .dataframe tbody tr th {\n",
       "        vertical-align: top;\n",
       "    }\n",
       "\n",
       "    .dataframe thead th {\n",
       "        text-align: right;\n",
       "    }\n",
       "</style>\n",
       "<table border=\"1\" class=\"dataframe\">\n",
       "  <thead>\n",
       "    <tr style=\"text-align: right;\">\n",
       "      <th></th>\n",
       "      <th>ID</th>\n",
       "      <th>di_muon</th>\n",
       "      <th>di_ve_som</th>\n",
       "      <th>vang_co_phep</th>\n",
       "      <th>vang_khong_phep</th>\n",
       "      <th>OT</th>\n",
       "      <th>muc_tieu_dat_duoc</th>\n",
       "      <th>du_an</th>\n",
       "      <th>chat_luong_du_an</th>\n",
       "      <th>thoi_han_hop_dong</th>\n",
       "      <th>...</th>\n",
       "      <th>ngay_tang_luong_cuoi</th>\n",
       "      <th>tinh_trang_lam_viec</th>\n",
       "      <th>tinh_trang_hon_nhan</th>\n",
       "      <th>so_con</th>\n",
       "      <th>chieu_cao</th>\n",
       "      <th>can_nang</th>\n",
       "      <th>tinh_trang_suc_khoe</th>\n",
       "      <th>Hut_thuoc</th>\n",
       "      <th>Uong_ruou_bia</th>\n",
       "      <th>Phuong_tien_di_chuyen</th>\n",
       "    </tr>\n",
       "  </thead>\n",
       "  <tbody>\n",
       "    <tr>\n",
       "      <th>count</th>\n",
       "      <td>10000</td>\n",
       "      <td>10000</td>\n",
       "      <td>10000</td>\n",
       "      <td>10000</td>\n",
       "      <td>10000</td>\n",
       "      <td>10000</td>\n",
       "      <td>10000</td>\n",
       "      <td>10000</td>\n",
       "      <td>10000</td>\n",
       "      <td>10000</td>\n",
       "      <td>...</td>\n",
       "      <td>10000</td>\n",
       "      <td>10000</td>\n",
       "      <td>10000</td>\n",
       "      <td>10000</td>\n",
       "      <td>10000</td>\n",
       "      <td>10000</td>\n",
       "      <td>10000</td>\n",
       "      <td>10000</td>\n",
       "      <td>10000</td>\n",
       "      <td>10000</td>\n",
       "    </tr>\n",
       "    <tr>\n",
       "      <th>unique</th>\n",
       "      <td>10000</td>\n",
       "      <td>6</td>\n",
       "      <td>6</td>\n",
       "      <td>6</td>\n",
       "      <td>6</td>\n",
       "      <td>6</td>\n",
       "      <td>4</td>\n",
       "      <td>6</td>\n",
       "      <td>6</td>\n",
       "      <td>3</td>\n",
       "      <td>...</td>\n",
       "      <td>366</td>\n",
       "      <td>3</td>\n",
       "      <td>2</td>\n",
       "      <td>4</td>\n",
       "      <td>6</td>\n",
       "      <td>4</td>\n",
       "      <td>2</td>\n",
       "      <td>2</td>\n",
       "      <td>2</td>\n",
       "      <td>3</td>\n",
       "    </tr>\n",
       "    <tr>\n",
       "      <th>top</th>\n",
       "      <td>FSI_9898</td>\n",
       "      <td>0</td>\n",
       "      <td>0</td>\n",
       "      <td>0</td>\n",
       "      <td>0</td>\n",
       "      <td>0</td>\n",
       "      <td>100</td>\n",
       "      <td>0</td>\n",
       "      <td>0</td>\n",
       "      <td>1</td>\n",
       "      <td>...</td>\n",
       "      <td>15/01/2020</td>\n",
       "      <td>full time</td>\n",
       "      <td>co gia dinh</td>\n",
       "      <td>1</td>\n",
       "      <td>160</td>\n",
       "      <td>50</td>\n",
       "      <td>khong bi benh</td>\n",
       "      <td>khong</td>\n",
       "      <td>khong</td>\n",
       "      <td>xe may</td>\n",
       "    </tr>\n",
       "    <tr>\n",
       "      <th>freq</th>\n",
       "      <td>1</td>\n",
       "      <td>2973</td>\n",
       "      <td>2917</td>\n",
       "      <td>3025</td>\n",
       "      <td>2907</td>\n",
       "      <td>2961</td>\n",
       "      <td>2603</td>\n",
       "      <td>2955</td>\n",
       "      <td>3008</td>\n",
       "      <td>5799</td>\n",
       "      <td>...</td>\n",
       "      <td>41</td>\n",
       "      <td>3372</td>\n",
       "      <td>5024</td>\n",
       "      <td>3339</td>\n",
       "      <td>1722</td>\n",
       "      <td>2549</td>\n",
       "      <td>5006</td>\n",
       "      <td>5052</td>\n",
       "      <td>5049</td>\n",
       "      <td>5592</td>\n",
       "    </tr>\n",
       "  </tbody>\n",
       "</table>\n",
       "<p>4 rows × 23 columns</p>\n",
       "</div>"
      ],
      "text/plain": [
       "              ID di_muon di_ve_som vang_co_phep vang_khong_phep     OT  \\\n",
       "count      10000   10000     10000        10000           10000  10000   \n",
       "unique     10000       6         6            6               6      6   \n",
       "top     FSI_9898       0         0            0               0      0   \n",
       "freq           1    2973      2917         3025            2907   2961   \n",
       "\n",
       "       muc_tieu_dat_duoc  du_an chat_luong_du_an thoi_han_hop_dong  \\\n",
       "count              10000  10000            10000             10000   \n",
       "unique                 4      6                6                 3   \n",
       "top                  100      0                0                 1   \n",
       "freq                2603   2955             3008              5799   \n",
       "\n",
       "                ...          ngay_tang_luong_cuoi tinh_trang_lam_viec  \\\n",
       "count           ...                         10000               10000   \n",
       "unique          ...                           366                   3   \n",
       "top             ...                   15/01/2020            full time   \n",
       "freq            ...                            41                3372   \n",
       "\n",
       "       tinh_trang_hon_nhan so_con chieu_cao can_nang tinh_trang_suc_khoe  \\\n",
       "count                10000  10000     10000    10000               10000   \n",
       "unique                   2      4         6        4                   2   \n",
       "top            co gia dinh      1       160       50       khong bi benh   \n",
       "freq                  5024   3339      1722     2549                5006   \n",
       "\n",
       "       Hut_thuoc Uong_ruou_bia Phuong_tien_di_chuyen  \n",
       "count      10000         10000                 10000  \n",
       "unique         2             2                     3  \n",
       "top        khong         khong                xe may  \n",
       "freq        5052          5049                  5592  \n",
       "\n",
       "[4 rows x 23 columns]"
      ]
     },
     "execution_count": 59,
     "metadata": {},
     "output_type": "execute_result"
    }
   ],
   "source": [
    "data.describe()"
   ]
  },
  {
   "cell_type": "code",
   "execution_count": 64,
   "metadata": {},
   "outputs": [
    {
     "data": {
      "text/plain": [
       "<matplotlib.axes._subplots.AxesSubplot at 0x22527c81b38>"
      ]
     },
     "execution_count": 64,
     "metadata": {},
     "output_type": "execute_result"
    },
    {
     "data": {
      "image/png": "[encoded data removed]",
      "text/plain": [
       "<Figure size 432x288 with 1 Axes>"
      ]
     },
     "metadata": {},
     "output_type": "display_data"
    }
   ],
   "source": [
    "data['tinh_trang_hon_nhan'].value_counts().plot(kind='bar')"
   ]
  },
  {
   "cell_type": "code",
   "execution_count": null,
   "metadata": {},
   "outputs": [],
   "source": []
  }
 ],
 "metadata": {
  "kernelspec": {
   "display_name": "Python 3",
   "language": "python",
   "name": "python3"
  },
  "language_info": {
   "codemirror_mode": {
    "name": "ipython",
    "version": 3
   },
   "file_extension": ".py",
   "mimetype": "text/x-python",
   "name": "python",
   "nbconvert_exporter": "python",
   "pygments_lexer": "ipython3",
   "version": "3.6.5"
  }
 },
 "nbformat": 4,
 "nbformat_minor": 2
}
