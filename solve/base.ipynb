{
 "cells": [
  {
   "cell_type": "code",
   "execution_count": 78,
   "metadata": {},
   "outputs": [
    {
     "name": "stdout",
     "output_type": "stream",
     "text": [
      "1.14.3\n",
      "0.23.0\n"
     ]
    }
   ],
   "source": [
    "# Khai bao cac thu vien ho tro\n",
    "%matplotlib inline\n",
    "\n",
    "import numpy as np\n",
    "import pandas as pd\n",
    "import random\n",
    "import matplotlib.pyplot as plt\n",
    "\n",
    "print(np.__version__)\n",
    "print(pd.__version__)"
   ]
  },
  {
   "cell_type": "code",
   "execution_count": 79,
   "metadata": {},
   "outputs": [],
   "source": [
    "# Tạo dataframe\n",
    "# B1: Định nghĩa dữ liệu đối tượng con người gồm các trường:\n",
    "# ID, Tên, Tuổi, Giới tính, Bằng cấp, Nghề nghiệp, Kinh nghiệm làm việc\n",
    "\n",
    "\n",
    "# B2: Tạo các list \n",
    "len_list = 1000\n",
    "len_list *= 10\n",
    "\n",
    "ID = []\n",
    "for i in range(len_list):\n",
    "    ID.append(i)\n",
    "#print(ID)\n",
    "\n",
    "Name = [random.choice(['Harry', 'Ron', 'Hermione', 'Luna', 'Long', 'Nam', 'Lan', 'Ngoc']) for i in range(len_list)]\n",
    "#print(Name)\n",
    "\n",
    "Tuoi = [random.randrange(18, 55, 1) for i in range(len_list)]\n",
    "#print(Tuoi)\n",
    "\n",
    "Gioi_tinh = [random.choice(['Nam', 'Nu', None]) for i in range(len_list)]\n",
    "#print(Gioi_tinh)\n",
    "\n",
    "Bang_cap = [random.choice(['Pho_thong', 'Dai_hoc', 'Cao_hoc', 'Tien_si']) for i in range(len_list)]\n",
    "#print(Bang_cap)\n",
    "\n",
    "Nghe_rand = ['Ke_toan', 'Giam_doc', 'Truong_phong', 'Thu_ky', 'Maketting', 'Massage', 'Lap_trinh_vien', 'Giao_Vien', 'Giang_vien']\n",
    "Nghe_nghiep = [random.choice(Nghe_rand) for i in range(len_list)]\n",
    "#print(Nghe_nghiep)\n",
    "\n",
    "Nam_kinh_nghiem = [random.randrange(1, 37, 1) for i in range(len_list)]\n",
    "#print(Nam_kinh_nghiem)\n",
    "\n",
    "# B3: Tao dataframe tu cac list ben tren\n",
    "person_object = pd.DataFrame()\n",
    "\n",
    "person_object['ID'] = ID\n",
    "person_object['Name'] = Name\n",
    "person_object['Gioi_tinh'] = Gioi_tinh\n",
    "person_object['Bang_cap'] = Bang_cap\n",
    "person_object['Nghe_nghiep'] = Nghe_nghiep\n",
    "person_object['Nam_kinh_nghiem'] = Nam_kinh_nghiem\n",
    "\n",
    "#print(person_object)\n",
    "\n",
    "# B4: Lưu dataframe định dạng file csv, để lưu trữ dữ liệu và xử lý về sau\n",
    "person_object.to_csv('person.csv')"
   ]
  },
  {
   "cell_type": "code",
   "execution_count": 80,
   "metadata": {},
   "outputs": [
    {
     "data": {
      "text/html": [
       "<div>\n",
       "<style scoped>\n",
       "    .dataframe tbody tr th:only-of-type {\n",
       "        vertical-align: middle;\n",
       "    }\n",
       "\n",
       "    .dataframe tbody tr th {\n",
       "        vertical-align: top;\n",
       "    }\n",
       "\n",
       "    .dataframe thead th {\n",
       "        text-align: right;\n",
       "    }\n",
       "</style>\n",
       "<table border=\"1\" class=\"dataframe\">\n",
       "  <thead>\n",
       "    <tr style=\"text-align: right;\">\n",
       "      <th></th>\n",
       "      <th>ID</th>\n",
       "      <th>Nam_kinh_nghiem</th>\n",
       "    </tr>\n",
       "  </thead>\n",
       "  <tbody>\n",
       "    <tr>\n",
       "      <th>count</th>\n",
       "      <td>10000.00000</td>\n",
       "      <td>10000.000000</td>\n",
       "    </tr>\n",
       "    <tr>\n",
       "      <th>mean</th>\n",
       "      <td>4999.50000</td>\n",
       "      <td>18.635000</td>\n",
       "    </tr>\n",
       "    <tr>\n",
       "      <th>std</th>\n",
       "      <td>2886.89568</td>\n",
       "      <td>10.389214</td>\n",
       "    </tr>\n",
       "    <tr>\n",
       "      <th>min</th>\n",
       "      <td>0.00000</td>\n",
       "      <td>1.000000</td>\n",
       "    </tr>\n",
       "    <tr>\n",
       "      <th>25%</th>\n",
       "      <td>2499.75000</td>\n",
       "      <td>10.000000</td>\n",
       "    </tr>\n",
       "    <tr>\n",
       "      <th>50%</th>\n",
       "      <td>4999.50000</td>\n",
       "      <td>19.000000</td>\n",
       "    </tr>\n",
       "    <tr>\n",
       "      <th>75%</th>\n",
       "      <td>7499.25000</td>\n",
       "      <td>28.000000</td>\n",
       "    </tr>\n",
       "    <tr>\n",
       "      <th>max</th>\n",
       "      <td>9999.00000</td>\n",
       "      <td>36.000000</td>\n",
       "    </tr>\n",
       "  </tbody>\n",
       "</table>\n",
       "</div>"
      ],
      "text/plain": [
       "                ID  Nam_kinh_nghiem\n",
       "count  10000.00000     10000.000000\n",
       "mean    4999.50000        18.635000\n",
       "std     2886.89568        10.389214\n",
       "min        0.00000         1.000000\n",
       "25%     2499.75000        10.000000\n",
       "50%     4999.50000        19.000000\n",
       "75%     7499.25000        28.000000\n",
       "max     9999.00000        36.000000"
      ]
     },
     "execution_count": 80,
     "metadata": {},
     "output_type": "execute_result"
    }
   ],
   "source": [
    "# xem thống kê cơ bản về dữ liệu\n",
    "person_object.describe()"
   ]
  },
  {
   "cell_type": "code",
   "execution_count": 81,
   "metadata": {},
   "outputs": [
    {
     "data": {
      "text/plain": [
       "32    298\n",
       "26    296\n",
       "30    296\n",
       "17    295\n",
       "10    294\n",
       "25    290\n",
       "23    290\n",
       "29    290\n",
       "7     289\n",
       "28    288\n",
       "6     288\n",
       "36    286\n",
       "24    286\n",
       "34    285\n",
       "13    284\n",
       "2     282\n",
       "4     280\n",
       "3     279\n",
       "20    278\n",
       "33    277\n",
       "19    276\n",
       "12    275\n",
       "15    275\n",
       "31    275\n",
       "21    271\n",
       "22    271\n",
       "27    268\n",
       "18    265\n",
       "5     264\n",
       "11    262\n",
       "9     262\n",
       "1     259\n",
       "8     259\n",
       "16    258\n",
       "35    256\n",
       "14    253\n",
       "Name: Nam_kinh_nghiem, dtype: int64"
      ]
     },
     "execution_count": 81,
     "metadata": {},
     "output_type": "execute_result"
    }
   ],
   "source": [
    "# xem thông tin cụ thể hơn về cột \"Nam_kinh_nghiem\"\n",
    "person_object['Nam_kinh_nghiem'].value_counts()"
   ]
  },
  {
   "cell_type": "code",
   "execution_count": 82,
   "metadata": {},
   "outputs": [
    {
     "data": {
      "text/plain": [
       "<matplotlib.axes._subplots.AxesSubplot at 0x7f8a244a1fd0>"
      ]
     },
     "execution_count": 82,
     "metadata": {},
     "output_type": "execute_result"
    },
    {
     "data": {
      "image/png": "[encoded data removed]",
      "text/plain": [
       "<Figure size 432x288 with 1 Axes>"
      ]
     },
     "metadata": {},
     "output_type": "display_data"
    }
   ],
   "source": [
    "# vẽ đồ thị xem phân bố của trường \"Nam_kinh_nghiem\"\n",
    "person_object['Nam_kinh_nghiem'].value_counts().plot(kind='bar')"
   ]
  },
  {
   "cell_type": "code",
   "execution_count": 83,
   "metadata": {},
   "outputs": [
    {
     "name": "stdout",
     "output_type": "stream",
     "text": [
      "Nhìn vào kết quả ta thấy dữ liệu có phân bố đều\n",
      "\n",
      "KL1: Hàm random tạo ra danh sách kết quả ngẫu nhiên có phân bố đều, không giống với dữ liệu thực tế  (^_^)\n"
     ]
    }
   ],
   "source": [
    "print(\"Nhìn vào kết quả ta thấy dữ liệu có phân bố đều\\n\")\n",
    "print(\"KL1: Hàm random tạo ra danh sách kết quả ngẫu nhiên có phân bố đều, không giống với dữ liệu thực tế  (^_^)\")"
   ]
  },
  {
   "cell_type": "code",
   "execution_count": null,
   "metadata": {},
   "outputs": [],
   "source": []
  },
  {
   "cell_type": "markdown",
   "metadata": {},
   "source": []
  },
  {
   "cell_type": "markdown",
   "metadata": {},
   "source": []
  },
  {
   "cell_type": "markdown",
   "metadata": {},
   "source": []
  }
 ],
 "metadata": {
  "kernelspec": {
   "display_name": "Python 3",
   "language": "python",
   "name": "python3"
  },
  "language_info": {
   "codemirror_mode": {
    "name": "ipython",
    "version": 3
   },
   "file_extension": ".py",
   "mimetype": "text/x-python",
   "name": "python",
   "nbconvert_exporter": "python",
   "pygments_lexer": "ipython3",
   "version": "3.6.5"
  }
 },
 "nbformat": 4,
 "nbformat_minor": 2
}
